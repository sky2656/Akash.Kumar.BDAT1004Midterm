{
 "cells": [
  {
   "cell_type": "markdown",
   "id": "3a7c0b5c",
   "metadata": {
    "tags": []
   },
   "source": [
    "# Question 21\n",
    "\n",
    "__int()__: Constructor that takes as input a pair of Point objects that represent the ends points of the line segment\n",
    "\n",
    "Length():: returns the length if the segment \n",
    "\n",
    "Slope() returns the slope of the segment of none if the slope is unbounded \n",
    "\n",
    " \n",
    "\n",
    ">>> p1 = Point(3,4)\n",
    "\n",
    ">>> p2 = Point()\n",
    "\n",
    ">>> s = Segment(p1,p2)\n",
    "\n",
    ">>> s.length()\n",
    "\n",
    "5.0\n",
    "\n",
    ">>> s.slope()\n",
    "\n",
    "0.75"
   ]
  },
  {
   "cell_type": "code",
   "execution_count": 3,
   "id": "e1da9015",
   "metadata": {},
   "outputs": [
    {
     "name": "stdout",
     "output_type": "stream",
     "text": [
      "5.0\n",
      "1.3333333333333333\n"
     ]
    }
   ],
   "source": [
    "# Answer :\n",
    "\n",
    "class Point:\n",
    "    def __init__(self, x=0, y=0):\n",
    "        self.x = x\n",
    "        self.y = y\n",
    "\n",
    "class Segment:\n",
    "    def __init__(self, start, end):\n",
    "        self.start = start\n",
    "        self.end = end\n",
    "\n",
    "    def length(self):\n",
    "        return ((self.end.x - self.start.x) ** 2 + (self.end.y - self.start.y) ** 2) ** 0.5\n",
    "\n",
    "    def slope(self):\n",
    "        if self.end.x - self.start.x != 0:\n",
    "            return (self.end.y - self.start.y) / (self.end.x - self.start.x)\n",
    "        else:\n",
    "            return None\n",
    "\n",
    "# Given from question\n",
    "p1 = Point(3, 4)\n",
    "p2 = Point()\n",
    "s = Segment(p1, p2)\n",
    "\n",
    "print(s.length())  \n",
    "print(s.slope())   \n"
   ]
  },
  {
   "cell_type": "markdown",
   "id": "79b804ec",
   "metadata": {
    "tags": []
   },
   "source": [
    "# Question 22\n",
    "\n",
    "+---------------+---------+\n",
    "| Column Name   | Type    |\n",
    "+---------------+---------+\n",
    "| id            | int     |\n",
    "| recordDate    | date    |\n",
    "| temperature   | int     |\n",
    "+---------------+---------+\n",
    "id is the column with unique values for this table.\n",
    "This table contains information about the temperature on a certain day.\n",
    "\n",
    "Write a solution to find all dates' Id with higher temperatures compared to its previous dates (yesterday).\n",
    "\n",
    "Return the result table in any order.\n",
    "\n",
    "Please use the following input Weather table for your solution. To receive full marks you will need to create the database, create the table, insert the data below and execute the SQL query.\n",
    "\n",
    " \n",
    "Input: \n",
    "Weather table:\n",
    "+----+------------+-------------+\n",
    "| id | recordDate | temperature |\n",
    "+----+------------+-------------+\n",
    "| 1  | 2015-01-01 | 10          |\n",
    "| 2  | 2015-01-02 | 25          |\n",
    "| 3  | 2015-01-03 | 20          |\n",
    "| 4  | 2015-01-04 | 30          |\n",
    "+----+------------+-------------+\n",
    "Output: \n",
    "+----+\n",
    "| id |\n",
    "+----+\n",
    "| 2  |\n",
    "| 4  |\n",
    "+----+\n",
    "Explanation: \n",
    "In 2015-01-02, the temperature was higher than the previous day (10 -> 25).\n",
    "In 2015-01-04, the temperature was higher than the previous day (20 -> 30)."
   ]
  },
  {
   "cell_type": "code",
   "execution_count": 34,
   "id": "2ee3ecc2",
   "metadata": {},
   "outputs": [],
   "source": [
    "# importing libraries\n",
    "import sqlite3 \n",
    "\n",
    "# Creating and Connecting to the database \n",
    "conn = sqlite3.connect('weather.db')\n",
    "\n",
    "# Create a cursor object to execute SQL queries\n",
    "cur = conn.cursor()\n",
    " \n",
    "# Insert new data\n",
    "    data = [\n",
    "        (1, '2015-01-01', 10),\n",
    "        (2, '2015-01-02', 25),\n",
    "        (3, '2015-01-03', 20),\n",
    "        (4, '2015-01-04', 30)\n",
    "    ]\n",
    "\n",
    "    cur.executemany('INSERT INTO Weather VALUES (?, ?, ?)', data)\n"
   ]
  },
  {
   "cell_type": "code",
   "execution_count": 32,
   "id": "74ef2b7d",
   "metadata": {},
   "outputs": [
    {
     "name": "stdout",
     "output_type": "stream",
     "text": [
      "+----+\n",
      "| id |\n",
      "+----+\n",
      "| 2  |\n",
      "| 4  |\n",
      "+----+\n"
     ]
    }
   ],
   "source": [
    "def find_higher_temperatures():\n",
    "    conn = sqlite3.connect('weather.db')\n",
    "    cur = conn.cursor()\n",
    "\n",
    "    # Perform the SELECT query to find IDs where the temperature is higher than the previous day\n",
    "    cur.execute('''\n",
    "        SELECT w.id\n",
    "        FROM Weather w\n",
    "        JOIN Weather w_prev ON w.id = w_prev.id + 1\n",
    "        WHERE w.temperature > w_prev.temperature\n",
    "    ''')\n",
    "\n",
    "    rows = cur.fetchall()\n",
    "    print('+----+')\n",
    "    print('| id |')\n",
    "    print('+----+')\n",
    "    for row in rows:\n",
    "        print(f'| {row[0]}  |')\n",
    "    print('+----+')\n",
    "\n",
    "    conn.close()\n",
    "\n",
    "find_higher_temperatures()\n"
   ]
  },
  {
   "cell_type": "markdown",
   "id": "6b03ebeb",
   "metadata": {
    "tags": []
   },
   "source": [
    "# Question 23\n",
    "Develop a recursive function tough() that takes two nonnegative integer arguments and outputs a pattern as shown below. Hint: The first argument represents the indentation of the pattern, where the second argument -- always a pattern of 2 indicates the number *s in the longest line of *s in the pattern\n",
    "\n",
    "\n"
   ]
  },
  {
   "cell_type": "code",
   "execution_count": 13,
   "id": "14a2d46f-f0d5-49b1-94b6-47f727757500",
   "metadata": {},
   "outputs": [],
   "source": [
    "def tough(indent, num):\n",
    "    def f(indent, num):\n",
    "        if num > 0:\n",
    "            f(indent, num // 2)                # print previous pattern\n",
    "            print(\" \" * indent + \"*\" * num)     # print middle row of *'s\n",
    "            f(indent + 1, num // 2)            # print previous pattern indented\n",
    "    \n",
    "    f(indent, num)\n",
    "tough(0, 0)\n",
    "\n"
   ]
  },
  {
   "cell_type": "code",
   "execution_count": 12,
   "id": "9ece8e09",
   "metadata": {},
   "outputs": [
    {
     "name": "stdout",
     "output_type": "stream",
     "text": [
      "*\n"
     ]
    }
   ],
   "source": [
    "def tough(indent, num):\n",
    "    def f(indent, num):\n",
    "        if num > 0:\n",
    "            f(indent, num // 2)                # print previous pattern\n",
    "            print(\" \" * indent + \"*\" * num)     # print middle row of *'s\n",
    "            f(indent + 1, num // 2)            # print previous pattern indented\n",
    "    \n",
    "    f(indent, num)\n",
    "\n",
    "tough(0, 1)\n",
    "\n"
   ]
  },
  {
   "cell_type": "code",
   "execution_count": 14,
   "id": "5f323629",
   "metadata": {},
   "outputs": [
    {
     "name": "stdout",
     "output_type": "stream",
     "text": [
      "*\n",
      "**\n",
      " *\n"
     ]
    }
   ],
   "source": [
    "def tough(indent, num):\n",
    "    def f(indent, num):\n",
    "        if num > 0:\n",
    "            f(indent, num // 2)                # print previous pattern\n",
    "            print(\" \" * indent + \"*\" * num)     # print middle row of *'s\n",
    "            f(indent + 1, num // 2)            # print previous pattern indented\n",
    "    \n",
    "    f(indent, num)\n",
    "\n",
    "tough(0, 2)\n",
    "\n"
   ]
  },
  {
   "cell_type": "code",
   "execution_count": 15,
   "id": "5a9a34d4",
   "metadata": {},
   "outputs": [
    {
     "name": "stdout",
     "output_type": "stream",
     "text": [
      "*\n",
      "**\n",
      " *\n",
      "****\n",
      " *\n",
      " **\n",
      "  *\n"
     ]
    }
   ],
   "source": [
    "def tough(indent, num):\n",
    "    def f(indent, num):\n",
    "        if num > 0:\n",
    "            f(indent, num // 2)                # print previous pattern\n",
    "            print(\" \" * indent + \"*\" * num)     # print middle row of *'s\n",
    "            f(indent + 1, num // 2)            # print previous pattern indented\n",
    "    \n",
    "    f(indent, num)\n",
    "\n",
    "tough(0, 4)\n"
   ]
  },
  {
   "cell_type": "code",
   "execution_count": null,
   "id": "971ddce9",
   "metadata": {},
   "outputs": [],
   "source": []
  }
 ],
 "metadata": {
  "kernelspec": {
   "display_name": "Python 3 (ipykernel)",
   "language": "python",
   "name": "python3"
  },
  "language_info": {
   "codemirror_mode": {
    "name": "ipython",
    "version": 3
   },
   "file_extension": ".py",
   "mimetype": "text/x-python",
   "name": "python",
   "nbconvert_exporter": "python",
   "pygments_lexer": "ipython3",
   "version": "3.11.4"
  }
 },
 "nbformat": 4,
 "nbformat_minor": 5
}
